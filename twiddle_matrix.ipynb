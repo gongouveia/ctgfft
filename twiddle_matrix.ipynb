{
 "cells": [
  {
   "cell_type": "code",
   "execution_count": 1,
   "metadata": {},
   "outputs": [
    {
     "name": "stdout",
     "output_type": "stream",
     "text": [
      "You are computing the DFT of N = 9.\n"
     ]
    }
   ],
   "source": [
    "from bitstring import Bits\n",
    "import numpy as np\n",
    "\n",
    "\n",
    "\n",
    "\n",
    "###################################\n",
    "####################################\n",
    "rows = 3         #3\n",
    "collumns = 3     #4\n",
    "##########################################\n",
    "#########################################\n",
    "\n",
    "\n",
    "\n",
    "#number of bits in each value\n",
    "num_of_bits = 32\n",
    "#\n",
    "scale =12\n",
    "\n",
    "\n",
    "print(f\"You are computing the DFT of N = {rows * collumns}.\")\n",
    "\n"
   ]
  },
  {
   "attachments": {},
   "cell_type": "markdown",
   "metadata": {},
   "source": [
    "# Auxiliar functions"
   ]
  },
  {
   "cell_type": "code",
   "execution_count": 2,
   "metadata": {},
   "outputs": [],
   "source": [
    "\n",
    "# Converts an integer value to a twos complement value\n",
    "def integer_to_binary_2complements(float_value , scale=12, num_of_bits = 32):\n",
    "    return str(Bits(int=round(float_value*(2**scale)), length=num_of_bits)).replace(\"0x\",\"\")\n"
   ]
  },
  {
   "attachments": {},
   "cell_type": "markdown",
   "metadata": {},
   "source": [
    "## Computes the twiddle factors MATRIX"
   ]
  },
  {
   "cell_type": "code",
   "execution_count": 3,
   "metadata": {},
   "outputs": [
    {
     "name": "stdout",
     "output_type": "stream",
     "text": [
      "CONSTANT twiddle_matrix : MATRIX :=\n",
      " (((x\"00001000\",x\"00000000\"),(x\"00001000\",x\"00000000\"),(x\"00001000\",x\"00000000\")),\n",
      "((x\"00001000\",x\"00000000\"),(x\"00000c42\",x\"fffff5b7\"),(x\"000002c7\",x\"fffff03e\")),\n",
      "((x\"00001000\",x\"00000000\"),(x\"000002c7\",x\"fffff03e\"),(x\"fffff0f7\",x\"fffffa87\"))\n",
      ");\n"
     ]
    },
    {
     "data": {
      "text/plain": [
       "'CONSTANT twiddle_matrix : MATRIX :=\\n (((x\"00001000\",x\"00000000\"),(x\"00001000\",x\"00000000\"),(x\"00001000\",x\"00000000\")),\\n((x\"00001000\",x\"00000000\"),(x\"00000c42\",x\"fffff5b7\"),(x\"000002c7\",x\"fffff03e\")),\\n((x\"00001000\",x\"00000000\"),(x\"000002c7\",x\"fffff03e\"),(x\"fffff0f7\",x\"fffffa87\"))\\n);'"
      ]
     },
     "execution_count": 3,
     "metadata": {},
     "output_type": "execute_result"
    }
   ],
   "source": [
    "\n",
    "\n",
    "# Computes the DFT factors of a N size vector\n",
    "def dft_factors(N):\n",
    "    \"\"\" Obtem os valores das constantes\"\"\"\n",
    "    X = np.zeros(N, dtype=complex)\n",
    "    twiddle_n   =  []\n",
    "    for k in range(N):\n",
    "        for n in range(N):\n",
    "            twiddle_n.append(np.exp(-2j * np.pi * k * n / N))\n",
    "        #    print(np.exp(-2j * np.pi * k * n / N))\n",
    "        #print('\\n')\n",
    "    print(\"\\n\\n\\n\")\n",
    "    #print(twiddle_n)\n",
    "    return twiddle_n\n",
    "\n",
    "# reshapes data\n",
    "def format_data_properly(X, N):\n",
    "    X = np.array(X).reshape(N, N)\n",
    "    return X\n",
    "\n",
    "def create_twiddle_std_logic_values(row_length,collumn_length):\t\n",
    "    N = row_length*collumn_length\n",
    "    twiddle_code = \"CONSTANT twiddle_matrix : MATRIX :=\\n (\"\n",
    "    for i in np.arange(0,collumn_length):\n",
    "        twiddle_code += \"(\"\n",
    "        for k in np.arange(0,row_length):\n",
    "            num = np.exp(-2j*i*k*np.pi/N)\n",
    "            #print(num)\n",
    "            twiddle_code += \"(x\\\"\" +integer_to_binary_2complements(num.real, scale, num_of_bits)+ \"\\\",x\\\"\" + integer_to_binary_2complements(num.imag,scale,num_of_bits).replace(\"(\", \"\") + \"\\\")\"\n",
    "            #print(float_bin(round(num.real,4),8))\n",
    "            #twiddle_code += '('+float_bin(xx , 8)\n",
    "            if k == row_length-1:\n",
    "                twiddle_code += \"),\\n\"\n",
    "            else:\n",
    "                twiddle_code += \",\"              \n",
    "    twiddle_code += \")\"\n",
    "    s = list(twiddle_code)\n",
    "    s[-3] = ''\n",
    "    twiddle_code = \"\".join(s)\n",
    "    twiddle_code += \";\"\n",
    "    print(twiddle_code)\n",
    "    return twiddle_code\n",
    "\n",
    "\n",
    "\n",
    "create_twiddle_std_logic_values(collumns,rows)\n",
    "\n",
    "\n"
   ]
  },
  {
   "attachments": {},
   "cell_type": "markdown",
   "metadata": {},
   "source": [
    "# Determins the row and collumn DFT factors."
   ]
  },
  {
   "cell_type": "code",
   "execution_count": 4,
   "metadata": {},
   "outputs": [
    {
     "name": "stdout",
     "output_type": "stream",
     "text": [
      "\n",
      "\n",
      "\n",
      "\n",
      "\n",
      "\n",
      "CONSTANT rows_dft_matrix_values : COLLUMN_MATRIX :=\n",
      " (((x\"00001000\",x\"00000000\"),(x\"00001000\",x\"00000000\"),(x\"00001000\",x\"00000000\")),\n",
      "((x\"00001000\",x\"00000000\"),(x\"fffff800\",x\"fffff225\"),(x\"fffff800\",x\"00000ddb\")),\n",
      "((x\"00001000\",x\"00000000\"),(x\"fffff800\",x\"00000ddb\"),(x\"fffff800\",x\"fffff225\")));\n",
      "\n",
      "\n",
      "\n",
      "\n",
      "\n",
      "\n",
      "CONSTANT collumn_dft_matrix_values : ROW_MATRIX :=\n",
      " (((x\"00001000\",x\"00000000\"),(x\"00001000\",x\"00000000\"),(x\"00001000\",x\"00000000\")),\n",
      "((x\"00001000\",x\"00000000\"),(x\"fffff800\",x\"fffff225\"),(x\"fffff800\",x\"00000ddb\")),\n",
      "((x\"00001000\",x\"00000000\"),(x\"fffff800\",x\"00000ddb\"),(x\"fffff800\",x\"fffff225\")));\n"
     ]
    },
    {
     "data": {
      "text/plain": [
       "'\\n\\nCONSTANT collumn_dft_matrix_values : ROW_MATRIX :=\\n (((x\"00001000\",x\"00000000\"),(x\"00001000\",x\"00000000\"),(x\"00001000\",x\"00000000\")),\\n((x\"00001000\",x\"00000000\"),(x\"fffff800\",x\"fffff225\"),(x\"fffff800\",x\"00000ddb\")),\\n((x\"00001000\",x\"00000000\"),(x\"fffff800\",x\"00000ddb\"),(x\"fffff800\",x\"fffff225\")));'"
      ]
     },
     "execution_count": 4,
     "metadata": {},
     "output_type": "execute_result"
    }
   ],
   "source": [
    "\n",
    "# created the tring with the twiddle factors in signed type twos complement\n",
    "def row_dft_collumn_factors(X, row_or_collumn, type_of_vector): \n",
    "    twiddle_code = f\"\\n\\nCONSTANT {row_or_collumn}_dft_matrix_values : {type_of_vector.upper()}_MATRIX :=\\n ((\"\n",
    "    for row in X:\n",
    "        for num in row:\n",
    "            twiddle_code += \",(x\\\"\" +integer_to_binary_2complements(num.real,scale, num_of_bits)+ \"\\\",x\\\"\" + integer_to_binary_2complements(num.imag,scale, num_of_bits).replace(\"(\", \"\") + \"\\\")\"\n",
    "        twiddle_code += \"),\\n(\"\n",
    "    twiddle_code += \");\"\n",
    "    print(twiddle_code.replace(\",\\n();\",\");\").replace(\"(,(\",\"((\"))\n",
    "    return twiddle_code.replace(\",\\n();\",\");\").replace(\"(,(\",\"((\")\n",
    "\n",
    "\n",
    "# Final method to compute the tf of the rows and collumns\n",
    "def row_or_collumn(N, row_or_collumn = \"row\", type_of_vector= \"collumn\"):\n",
    "\n",
    "    X = dft_factors(N)\n",
    "    X = format_data_properly(X,N)\n",
    "    return row_dft_collumn_factors(X,row_or_collumn, type_of_vector)\n",
    "\n",
    "\n",
    "row_or_collumn(rows, \"rows\", \"collumn\")\n",
    "\n",
    "row_or_collumn(collumns, \"collumn\" , \"row\")"
   ]
  },
  {
   "attachments": {},
   "cell_type": "markdown",
   "metadata": {},
   "source": [
    "# Save to text"
   ]
  },
  {
   "cell_type": "code",
   "execution_count": 5,
   "metadata": {},
   "outputs": [
    {
     "name": "stdout",
     "output_type": "stream",
     "text": [
      "CONSTANT twiddle_matrix : MATRIX :=\n",
      " (((x\"00001000\",x\"00000000\"),(x\"00001000\",x\"00000000\"),(x\"00001000\",x\"00000000\")),\n",
      "((x\"00001000\",x\"00000000\"),(x\"00000c42\",x\"fffff5b7\"),(x\"000002c7\",x\"fffff03e\")),\n",
      "((x\"00001000\",x\"00000000\"),(x\"000002c7\",x\"fffff03e\"),(x\"fffff0f7\",x\"fffffa87\"))\n",
      ");\n",
      "\n",
      "\n",
      "\n",
      "\n",
      "\n",
      "\n",
      "CONSTANT collumn_dft_matrix_values : ROW_MATRIX :=\n",
      " (((x\"00001000\",x\"00000000\"),(x\"00001000\",x\"00000000\"),(x\"00001000\",x\"00000000\")),\n",
      "((x\"00001000\",x\"00000000\"),(x\"fffff800\",x\"fffff225\"),(x\"fffff800\",x\"00000ddb\")),\n",
      "((x\"00001000\",x\"00000000\"),(x\"fffff800\",x\"00000ddb\"),(x\"fffff800\",x\"fffff225\")));\n",
      "\n",
      "\n",
      "\n",
      "\n",
      "\n",
      "\n",
      "CONSTANT row_dft_matrix_values : COLLUMN_MATRIX :=\n",
      " (((x\"00001000\",x\"00000000\"),(x\"00001000\",x\"00000000\"),(x\"00001000\",x\"00000000\")),\n",
      "((x\"00001000\",x\"00000000\"),(x\"fffff800\",x\"fffff225\"),(x\"fffff800\",x\"00000ddb\")),\n",
      "((x\"00001000\",x\"00000000\"),(x\"fffff800\",x\"00000ddb\"),(x\"fffff800\",x\"fffff225\")));\n"
     ]
    }
   ],
   "source": [
    "\n",
    "\n",
    "\n",
    "with open('factors.txt', 'w') as f:\n",
    "    f.write(\"\\n\")\n",
    "    f.write(create_twiddle_std_logic_values(collumns,rows))\n",
    "    f.write(row_or_collumn(rows, \"collumn\" , \"row\"))\n",
    "    f.write(\"\\n\")\n",
    "    f.write(row_or_collumn(collumns, \"row\" , \"collumn\"))\n",
    "    f.write(\"\\n\")\n"
   ]
  },
  {
   "cell_type": "code",
   "execution_count": 6,
   "metadata": {},
   "outputs": [
    {
     "name": "stdout",
     "output_type": "stream",
     "text": [
      "CONSTANT twiddle_matrix : MATRIX :=\n",
      " (((x\"00001000\",x\"00000000\"),(x\"00001000\",x\"00000000\"),(x\"00001000\",x\"00000000\")),\n",
      "((x\"00001000\",x\"00000000\"),(x\"00000c42\",x\"fffff5b7\"),(x\"000002c7\",x\"fffff03e\")),\n",
      "((x\"00001000\",x\"00000000\"),(x\"000002c7\",x\"fffff03e\"),(x\"fffff0f7\",x\"fffffa87\"))\n",
      ");\n",
      "\n",
      "\n",
      "\n",
      "\n",
      "\n",
      "\n",
      "CONSTANT collumn_dft_matrix_values : ROW_MATRIX :=\n",
      " (((x\"00001000\",x\"00000000\"),(x\"00001000\",x\"00000000\"),(x\"00001000\",x\"00000000\")),\n",
      "((x\"00001000\",x\"00000000\"),(x\"fffff800\",x\"fffff225\"),(x\"fffff800\",x\"00000ddb\")),\n",
      "((x\"00001000\",x\"00000000\"),(x\"fffff800\",x\"00000ddb\"),(x\"fffff800\",x\"fffff225\")));\n",
      "\n",
      "\n",
      "\n",
      "\n",
      "\n",
      "\n",
      "CONSTANT row_dft_matrix_values : COLLUMN_MATRIX :=\n",
      " (((x\"00001000\",x\"00000000\"),(x\"00001000\",x\"00000000\"),(x\"00001000\",x\"00000000\")),\n",
      "((x\"00001000\",x\"00000000\"),(x\"fffff800\",x\"fffff225\"),(x\"fffff800\",x\"00000ddb\")),\n",
      "((x\"00001000\",x\"00000000\"),(x\"fffff800\",x\"00000ddb\"),(x\"fffff800\",x\"fffff225\")));\n"
     ]
    }
   ],
   "source": [
    "def tex_initial(rows, collumns):\n",
    "    return f\"\"\"library IEEE;\n",
    "USE IEEE.STD_LOGIC_1164.ALL;\n",
    "USE ieee.numeric_std.ALL;      -- going to use to convert std vector to unsigned\n",
    "\n",
    "\n",
    "-- Package Declaration Section-0.02112+0.j\n",
    "package Packages_Util is\n",
    "    \n",
    "    \n",
    "    CONSTANT  rows :     INTEGER :=  {rows};\n",
    "    CONSTANT  collumns : INTEGER :=  {collumns};\n",
    "    \n",
    "    \n",
    "    ----------------------------------------------------------\n",
    "    ------              Clocks                         -------\n",
    "    ----------------------------------------------------------\n",
    "   \n",
    "    \n",
    "    --clk generation.For 100 MHz clock this generates 1 Hz clock.\n",
    "    CONSTANT acquisition_clock_counter : INTEGER := 100000000;\n",
    "    CONSTANT output_clock_counter      : INTEGER := 100000000;\n",
    " \n",
    " \n",
    "    ----------------------------------------------------------\n",
    "    ------             Data Types                      -------\n",
    "    ----------------------------------------------------------\n",
    "   \n",
    " \n",
    "\tTYPE Complex_Type IS\n",
    "\t\tRECORD\n",
    "\t\t\tr: signed(31 DOWNTO 0);\n",
    "\t\t\ti: signed(31 DOWNTO 0);\n",
    "\t\tEND RECORD;\n",
    "\t\t\n",
    "    TYPE VECTOR_COLLUMN IS ARRAY (0 to collumns-1) OF Complex_Type; \n",
    "    TYPE VECTOR_ROW     IS ARRAY (0 to rows-1)     OF Complex_Type; \n",
    "    \n",
    "    TYPE MATRIX         IS ARRAY (0 TO rows-1) OF VECTOR_COLLUMN;\n",
    "    TYPE MATRIX_transpose  IS ARRAY (0 TO collumns-1) OF VECTOR_ROW;\n",
    "\n",
    "    TYPE ROW_MATRIX     IS ARRAY (0 TO rows-1) OF VECTOR_ROW;\n",
    "    TYPE COLLUMN_MATRIX IS ARRAY (0 TO collumns-1) OF VECTOR_COLLUMN;\n",
    "\n",
    "    ----------------------------------------------------------\n",
    "    ------           Pre Computed Matrix               -------\n",
    "    ----------------------------------------------------------\n",
    "    -- os valores estão calculados em 2s complement \" \"\"\"\n",
    "\n",
    "    \n",
    "\n",
    "\n",
    "text_final =  \"\"\"\n",
    "    -------------------------------------------------------\n",
    "    ------        Deslaração de Funções             -------\n",
    "    -------------------------------------------------------\n",
    "      \n",
    "\n",
    "   -- Soma de numeros complexos\n",
    "   ------------------------------------------------\n",
    "\tFUNCTION ComplexSum (ValueA, ValueB: Complex_Type) RETURN Complex_Type;\n",
    "\t------------------------------------------------\n",
    "\n",
    "    -- Multiplciação de numeros complexos\n",
    "\t------------------------------------------------\n",
    "\tFUNCTION ComplexMULT (ValueA, ValueB: Complex_Type) RETURN Complex_Type;\n",
    "\t------------------------------------------------\n",
    "\t\n",
    "\n",
    "\t\n",
    "      end package Packages_Util;\n",
    "       \n",
    "      -- Package Body Section\n",
    "      package body Packages_Util is\n",
    "       \n",
    "\t\n",
    "\t------------------------------------------------\n",
    "\t--Calcula a soma de dois numeros complexos\n",
    "\tFUNCTION ComplexSum (ValueA, ValueB: Complex_Type) RETURN Complex_Type IS\n",
    "\t\t\n",
    "\t\tVARIABLE Result : Complex_Type;\n",
    "        VARIABLE Natural_result : signed(31 downto 0);\n",
    "        VARIABLE Complex_result : signed(31 downto 0);\n",
    "    \n",
    "\tBEGIN\n",
    "\t\n",
    "\t\tNatural_result := ValueA.r + ValueB.r;\n",
    "\t\tComplex_result := ValueA.i + ValueB.i;\n",
    "\t\t\n",
    "        Result.r := Natural_result(31 downto 0);\n",
    "        Result.i := Complex_result(31 downto 0);\n",
    "\t\tRETURN Result;\n",
    "\t\t\n",
    "\tEND ComplexSum;\n",
    "\t\n",
    "\n",
    "\t------------------------------------------------\n",
    "\t-- Calcula o produto entre dois numeros complexos\n",
    "    FUNCTION ComplexMult(ValueA, ValueB: Complex_Type) RETURN Complex_Type IS\n",
    "        \n",
    "        VARIABLE Result: Complex_Type;\n",
    "        VARIABLE Natural_result_first : signed(63 downto 0);\n",
    "        VARIABLE Complex_result_first : signed(63 downto 0);\n",
    "        VARIABLE Natural_result_second : signed(63 downto 0);\n",
    "        VARIABLE Complex_result_second : signed(63 downto 0);   \n",
    "        VARIABLE Natural_result : signed(63 downto 0);\n",
    "        VARIABLE Complex_result : signed(63 downto 0); \n",
    "    BEGIN\n",
    "    \n",
    "        Natural_result_first := signed(ValueA.r) *signed(ValueB.r)/4096 ;\n",
    "        Complex_result_first := signed(ValueA.r) *signed(ValueB.i)/4096 ;\n",
    "   \n",
    "        Natural_result_second :=  signed(ValueA.i)*signed(ValueB.i)/4096;\n",
    "        Complex_result_second :=  signed(ValueA.i)*signed(ValueB.r)/4096;\n",
    "     \n",
    "     \n",
    "        Natural_result := Natural_result_first- Natural_result_second;\n",
    "        Complex_result := Complex_result_first+ Complex_result_second;\n",
    "     \n",
    "        Result.r := Natural_result(31 downto 0);\n",
    "        Result.i := Complex_result(31 downto 0);\n",
    "    \n",
    "        RETURN Result;\n",
    "    END ComplexMult;\n",
    "\t\n",
    " \n",
    "    \n",
    "END package body Packages_Util;\"\"\"\n",
    "\n",
    "\n",
    "\n",
    "with open('factors.txt', 'w') as f:\n",
    "    f.write(tex_initial(rows, collumns))\n",
    "    f.write(\"\\n\")\n",
    "    f.write(create_twiddle_std_logic_values(collumns,rows))\n",
    "    f.write(row_or_collumn(rows, \"collumn\" , \"row\"))\n",
    "    f.write(\"\\n\")\n",
    "    f.write(row_or_collumn(collumns, \"row\" , \"collumn\"))\n",
    "    f.write(text_final)"
   ]
  },
  {
   "cell_type": "code",
   "execution_count": 7,
   "metadata": {},
   "outputs": [
    {
     "data": {
      "text/plain": [
       "array([ 2.94712+0.j     ,  0.007  -0.00588j, -0.02112+0.j     ,\n",
       "        0.007  +0.00588j])"
      ]
     },
     "execution_count": 7,
     "metadata": {},
     "output_type": "execute_result"
    }
   ],
   "source": [
    "      \n",
    "#         file Fin : text open READ_MODE  is \"datain.txt\";\n",
    "    \n",
    "#         variable current_read_line : line;\n",
    "#         variable current_read_field : std_logic_vector(12 downto 0);\n",
    "        \n",
    "      \n",
    "            \n",
    "            \n",
    "#             while (not endfile(Fin)) loop\n",
    "            \n",
    "#                 readline(Fin, current_read_line);\n",
    "#                 read(current_read_line, current_read_field);\n",
    "                \n",
    "#                 NEW_VALUE <=  current_read_field;\n",
    "#                 wait for clock_period;\n",
    "\n",
    "#             end loop;\n",
    "\n",
    "\n",
    "\n",
    "import numpy as np\n",
    "\n",
    "np.fft.fft(np.array([0.735, 0.745, 0.728, 0.73912]))\n",
    "\n",
    "\n"
   ]
  }
 ],
 "metadata": {
  "kernelspec": {
   "display_name": "Python 3",
   "language": "python",
   "name": "python3"
  },
  "language_info": {
   "codemirror_mode": {
    "name": "ipython",
    "version": 3
   },
   "file_extension": ".py",
   "mimetype": "text/x-python",
   "name": "python",
   "nbconvert_exporter": "python",
   "pygments_lexer": "ipython3",
   "version": "3.9.2"
  },
  "orig_nbformat": 4,
  "vscode": {
   "interpreter": {
    "hash": "916dbcbb3f70747c44a77c7bcd40155683ae19c65e1c03b4aa3499c5328201f1"
   }
  }
 },
 "nbformat": 4,
 "nbformat_minor": 2
}
